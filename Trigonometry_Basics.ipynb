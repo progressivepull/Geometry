{
  "metadata": {
    "kernelspec": {
      "name": "python",
      "display_name": "Python (Pyodide)",
      "language": "python"
    },
    "language_info": {
      "codemirror_mode": {
        "name": "python",
        "version": 3
      },
      "file_extension": ".py",
      "mimetype": "text/x-python",
      "name": "python",
      "nbconvert_exporter": "python",
      "pygments_lexer": "ipython3",
      "version": "3.8"
    }
  },
  "nbformat_minor": 5,
  "nbformat": 4,
  "cells": [
    {
      "id": "1bdef075-1511-4842-b705-112d3097d701",
      "cell_type": "markdown",
      "source": "# Trigonometry Basics with Python for Geometry\n\n## Introduction\nTrigonometry is a branch of mathematics that deals with angles and sides of triangles. It is widely used in geometry, physics, engineering, and computer graphics. In this tutorial, we'll explore right triangles and trigonometric functions using Python.\n\n## Right Triangles\nA right triangle is a triangle in which one angle is 90°. The sides are:\n- **Hypotenuse**: The longest side, opposite the right angle.\n- **Adjacent**: The side next to the angle.\n- **Opposite**: The side opposite the angle.\n\n## Trigonometric Functions\nThe three primary trigonometric functions are:\n- **Sine**: `sin(θ) = opposite / hypotenuse`\n- **Cosine**: `cos(θ) = adjacent / hypotenuse`\n- **Tangent**: `tan(θ) = opposite / adjacent`\n\nThese functions allow us to solve geometric problems.\n\n## Using Python for Trigonometry\nPython provides a `math` module for trigonometric calculations.",
      "metadata": {}
    },
    {
      "id": "c847ffc9-a200-4cf6-9019-7ca2984998f9",
      "cell_type": "markdown",
      "source": "## Calculating Trigonometric Functions",
      "metadata": {}
    },
    {
      "id": "8ab2911f-37cb-4e3e-ba39-37076e4ea21c",
      "cell_type": "code",
      "source": "import math\n\nangle = math.radians(30)  # Convert degrees to radians\n\nsine_value = math.sin(angle)\ncosine_value = math.cos(angle)\ntangent_value = math.tan(angle)\n\nprint(f\"Sine of 30°: {sine_value}\")\nprint(f\"Cosine of 30°: {cosine_value}\")\nprint(f\"Tangent of 30°: {tangent_value}\")",
      "metadata": {
        "trusted": true
      },
      "outputs": [
        {
          "name": "stdout",
          "output_type": "stream",
          "text": "Sine of 30°: 0.49999999999999994\nCosine of 30°: 0.8660254037844387\nTangent of 30°: 0.5773502691896257\n"
        }
      ],
      "execution_count": 1
    },
    {
      "id": "5862bd3c-6bf2-4345-ad40-358a13102154",
      "cell_type": "markdown",
      "source": "## Finding Hypotenuse Using Pythagorean Theorem\nThe Pythagorean Theorem states:\n\n$$ a^2 + b^2 = c^2 $$\n\nWhere **a** and **b** are the legs, and **c** is the hypotenuse.",
      "metadata": {}
    },
    {
      "id": "69261cd2-f813-4cd0-a7c9-1ee4b582af22",
      "cell_type": "code",
      "source": "a = 3\nb = 4\nhypotenuse = math.sqrt(a**2 + b**2)\nprint(f\"Hypotenuse: {hypotenuse}\")",
      "metadata": {
        "trusted": true
      },
      "outputs": [
        {
          "name": "stdout",
          "output_type": "stream",
          "text": "Hypotenuse: 5.0\n"
        }
      ],
      "execution_count": 2
    },
    {
      "id": "ec382211-c4cd-47e3-b4b8-b227e424ab78",
      "cell_type": "markdown",
      "source": "## Real-Life Applications\nTrigonometry is used in:\n\n* Architecture for structural calculations\n* Navigation for calculating distances\n* Computer graphics for rendering 3D objects\n\n## Summary\n* We covered right triangles and trigonometric functions.\n* Used Python to compute sine, cosine, and tangent.\n* Applied the Pythagorean theorem to find a hypotenuse.",
      "metadata": {}
    },
    {
      "id": "e822f8a8-6011-46a6-9960-3a85b7a0b1c4",
      "cell_type": "markdown",
      "source": "# [Geometry Context](./README.md)",
      "metadata": {}
    }
  ]
}