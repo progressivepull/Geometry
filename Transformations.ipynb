{
  "metadata": {
    "kernelspec": {
      "name": "python",
      "display_name": "Python (Pyodide)",
      "language": "python"
    },
    "language_info": {
      "codemirror_mode": {
        "name": "python",
        "version": 3
      },
      "file_extension": ".py",
      "mimetype": "text/x-python",
      "name": "python",
      "nbconvert_exporter": "python",
      "pygments_lexer": "ipython3",
      "version": "3.8"
    }
  },
  "nbformat_minor": 5,
  "nbformat": 4,
  "cells": [
    {
      "id": "8e192ce4-0723-4352-b966-fea42890a91b",
      "cell_type": "markdown",
      "source": "# Geometry Transformations in Python\n## Introduction\nGeometry transformations are operations that move or change shapes while preserving certain properties. The four key types are:\n\n* **Rotations –** Turning a shape around a fixed point.\n* **Reflections –** Flipping a shape across a line.\n* **Translations –** Moving a shape without changing its orientation.\n* **Dilations –** Resizing a shape while maintaining its proportions.\n\nWe'll explore how to apply these transformations using Python and the numpy library.",
      "metadata": {}
    },
    {
      "id": "ebe0fdf4-2e01-4ddf-8c0b-de8b12175d68",
      "cell_type": "markdown",
      "source": "## 1. Rotations\n\nA rotation transforms a point $(x, y)$ around the origin by an angle $ \\theta $:\n\n## Rotation Matrix:\n\n\n\n$$\nR =\n\\begin{bmatrix}\n\\cos\\theta & -\\sin\\theta \\\\\n\\sin\\theta & \\cos\\theta\n\\end{bmatrix}\n$$\n\n\n",
      "metadata": {}
    },
    {
      "id": "f03f33b2-af2a-43d6-be7f-5515e0d387de",
      "cell_type": "code",
      "source": "import numpy as np\n\ndef rotate_point(x, y, theta):\n    theta_rad = np.radians(theta)\n    rotation_matrix = np.array([[np.cos(theta_rad), -np.sin(theta_rad)],\n                                [np.sin(theta_rad), np.cos(theta_rad)]])\n    new_point = rotation_matrix @ np.array([x, y])\n    return new_point\n\n# Example: Rotate (2, 3) by 45 degrees\nprint(rotate_point(2, 3, 45))\n",
      "metadata": {
        "trusted": true
      },
      "outputs": [
        {
          "name": "stdout",
          "output_type": "stream",
          "text": "[-0.70710678  3.53553391]\n"
        }
      ],
      "execution_count": 1
    },
    {
      "id": "f9994ada-8ed2-433c-954b-b06cbfee0329",
      "cell_type": "markdown",
      "source": "## 2. Reflections\n\nReflection flips a point across a line. The common reflections are across the x-axis, y-axis, or $ y = x $.\n\n## Reflection Matrices:\n\n- **Across the x-axis:**  \n  \n$$\n  \\begin{bmatrix} \n  1 & 0 \\\\ \n  0 & -1 \n  \\end{bmatrix}\n$$\n\n- **Across the y-axis:**  \n  \n\n$$\n  \\begin{bmatrix} \n  -1 & 0 \\\\ \n  0 & 1 \n  \\end{bmatrix}\n$$",
      "metadata": {}
    },
    {
      "id": "41747a80-048a-4d3c-8412-f1797e239ad4",
      "cell_type": "code",
      "source": "def reflect_x(x, y):\n    return np.array([x, -y])\n\ndef reflect_y(x, y):\n    return np.array([-x, y])\n\n# Example: Reflect (2, 3) across the x-axis\nprint(reflect_x(2, 3))\n",
      "metadata": {
        "trusted": true
      },
      "outputs": [
        {
          "name": "stdout",
          "output_type": "stream",
          "text": "[ 2 -3]\n"
        }
      ],
      "execution_count": 2
    },
    {
      "id": "56118043-b163-4261-8644-553a3aa32e62",
      "cell_type": "markdown",
      "source": "## 3. Translations\n\nA translation moves a point by a given amount $ (dx, dy) $.\n\n## Formula:\n\n$$\n(x', y') = (x + dx, y + dy)\n$$",
      "metadata": {}
    },
    {
      "id": "88edb5ad-80c9-4d1a-b1c3-662ac3863043",
      "cell_type": "code",
      "source": "def translate(x, y, dx, dy):\n    return np.array([x + dx, y + dy])\n\n# Example: Move (2, 3) by (5, -2)\nprint(translate(2, 3, 5, -2))\n",
      "metadata": {
        "trusted": true
      },
      "outputs": [
        {
          "name": "stdout",
          "output_type": "stream",
          "text": "[7 1]\n"
        }
      ],
      "execution_count": 3
    },
    {
      "id": "1243695c-1f26-4698-9246-f8c8fdfd2024",
      "cell_type": "markdown",
      "source": "## 4. Dilations\n\nDilation scales a shape around a point. A point $ (x, y) $ is transformed using a scale factor $ k $.\n\n## Formula:\n\n$$\n(x', y') = (k \\cdot x, k \\cdot y)\n$$",
      "metadata": {}
    },
    {
      "id": "66f871e1-c143-47ea-a2d9-09d6c960212d",
      "cell_type": "code",
      "source": "def dilate(x, y, k):\n    return np.array([k * x, k * y])\n\n# Example: Scale (2, 3) by a factor of 2\nprint(dilate(2, 3, 2))\n",
      "metadata": {
        "trusted": true
      },
      "outputs": [
        {
          "name": "stdout",
          "output_type": "stream",
          "text": "[4 6]\n"
        }
      ],
      "execution_count": 5
    },
    {
      "id": "89e984b2-7e38-47bb-a634-09f77dede32a",
      "cell_type": "markdown",
      "source": "## Summary\nUsing NumPy, we implemented common geometry transformations:\n\n* **Rotation** using a matrix.\n* **Reflection** across axes.\n* **Translation** by shifting coordinates.\n* **Dilation** by scaling.\n\nPython makes it easy to manipulate points and geometric shapes with matrices and vector operations.",
      "metadata": {}
    },
    {
      "id": "fff4f4e1-54e5-4645-934e-f339d5defa35",
      "cell_type": "markdown",
      "source": "# [Geometry Context](./README.md)",
      "metadata": {}
    }
  ]
}