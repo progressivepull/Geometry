{
  "metadata": {
    "kernelspec": {
      "name": "python",
      "display_name": "Python (Pyodide)",
      "language": "python"
    },
    "language_info": {
      "codemirror_mode": {
        "name": "python",
        "version": 3
      },
      "file_extension": ".py",
      "mimetype": "text/x-python",
      "name": "python",
      "nbconvert_exporter": "python",
      "pygments_lexer": "ipython3",
      "version": "3.8"
    }
  },
  "nbformat_minor": 5,
  "nbformat": 4,
  "cells": [
    {
      "id": "91d6e13a-a631-4a1b-bd21-1fcb25e6d528",
      "cell_type": "markdown",
      "source": "# Three-Dimensional Geometry in Python\n## Introduction\nThree-dimensional (3D) geometry involves points, vectors, planes, and transformations in 3D space. Common operations include:\n\n* **Distance & midpoint calculations**\n* **Dot & cross product of vectors**\n* **Equation of a plane**\n* **3D transformations (translations, rotations, scalings)**",
      "metadata": {}
    },
    {
      "id": "1302854d-eb29-409f-ac83-32057df4281c",
      "cell_type": "markdown",
      "source": "## Distance Between Two Points\n\nThe distance between two points $ (x_1, y_1, z_1) $ and $ (x_2, y_2, z_2) $ is:\n\n$$\nd = \\sqrt{(x_2 - x_1)^2 + (y_2 - y_1)^2 + (z_2 - z_1)^2}\n$$",
      "metadata": {}
    },
    {
      "id": "3eb03028-a69c-4043-b20b-65cff18f6d4c",
      "cell_type": "code",
      "source": "import numpy as np\n\ndef distance_3d(p1, p2):\n    return np.linalg.norm(np.array(p2) - np.array(p1))\n\n# Example: Distance between (1, 2, 3) and (4, 5, 6)\nprint(distance_3d((1, 2, 3), (4, 5, 6)))\n",
      "metadata": {
        "trusted": true
      },
      "outputs": [
        {
          "name": "stdout",
          "output_type": "stream",
          "text": "5.196152422706632\n"
        }
      ],
      "execution_count": 1
    },
    {
      "id": "0394a892-57af-45f9-b6a5-53b356f6be60",
      "cell_type": "markdown",
      "source": "## Midpoint of Two Points\n\nThe midpoint between two points $ (x_1, y_1, z_1) $ and $ (x_2, y_2, z_2) $ is:\n\n$$\nM = \\left( \\frac{x_1 + x_2}{2}, \\frac{y_1 + y_2}{2}, \\frac{z_1 + z_2}{2} \\right)\n$$",
      "metadata": {}
    },
    {
      "id": "fa9a2688-a736-496b-8101-144c1f15303f",
      "cell_type": "code",
      "source": "def midpoint_3d(p1, p2):\n    return (np.array(p1) + np.array(p2)) / 2\n\n# Example: Midpoint between (1, 2, 3) and (4, 5, 6)\nprint(midpoint_3d((1, 2, 3), (4, 5, 6)))\n",
      "metadata": {
        "trusted": true
      },
      "outputs": [
        {
          "name": "stdout",
          "output_type": "stream",
          "text": "[2.5 3.5 4.5]\n"
        }
      ],
      "execution_count": 2
    },
    {
      "id": "a73075d2-6085-491a-b7da-1ca0f523e76c",
      "cell_type": "markdown",
      "source": "## Dot Product of Two Vectors\n\nThe dot product of two vectors **A** and **B** is calculated as:\n\n$$\nA \\cdot B = x_1 x_2 + y_1 y_2 + z_1 z_2\n$$\n\nWhere:\n- $ x_1, y_1, z_1 $ are the components of vector **A**.\n- $ x_2, y_2, z_2 $ are the components of vector **B**.",
      "metadata": {}
    },
    {
      "id": "67c5399a-fbdb-45e9-a2cc-01e21ebc5dd5",
      "cell_type": "code",
      "source": "def dot_product_3d(v1, v2):\n    return np.dot(v1, v2)\n\n# Example: Dot product of (1, 2, 3) and (4, 5, 6)\nprint(dot_product_3d((1, 2, 3), (4, 5, 6)))",
      "metadata": {
        "trusted": true
      },
      "outputs": [
        {
          "name": "stdout",
          "output_type": "stream",
          "text": "32\n"
        }
      ],
      "execution_count": 3
    },
    {
      "id": "31a9f98f-9730-46ed-adda-a8e2d0cbfc08",
      "cell_type": "markdown",
      "source": "## Cross Product of Two Vectors\n\nThe cross product of two vectors **A** and **B** results in a perpendicular vector:\n\n$$\nA \\times B =\n\\begin{vmatrix}\n\\mathbf{i} & \\mathbf{j} & \\mathbf{k} \\\\\nx_1 & y_1 & z_1 \\\\\nx_2 & y_2 & z_2\n\\end{vmatrix}\n$$",
      "metadata": {}
    },
    {
      "id": "ec8f8287-b3cf-4aed-932b-4f0d30a35d57",
      "cell_type": "code",
      "source": "def cross_product_3d(v1, v2):\n    return np.cross(v1, v2)\n\n# Example: Cross product of (1, 2, 3) and (4, 5, 6)\nprint(cross_product_3d((1, 2, 3), (4, 5, 6)))",
      "metadata": {
        "trusted": true
      },
      "outputs": [
        {
          "name": "stdout",
          "output_type": "stream",
          "text": "[-3  6 -3]\n"
        }
      ],
      "execution_count": 4
    },
    {
      "id": "626138b1-af85-41ea-b50c-31fcfff62ae8",
      "cell_type": "markdown",
      "source": "## 5. Equation of a Plane\n\nA plane can be defined by the equation:\n\n$$ Ax + By + Cz + D = 0 $$\n\nWhere:\n- \\( A, B, C \\) are the coefficients from the normal vector.\n- \\( x, y, z \\) represent the coordinates of any point on the plane.\n- \\( D \\) is the constant term.\n",
      "metadata": {}
    },
    {
      "id": "ec817b95-dadb-483a-b9f1-cb058b34ce82",
      "cell_type": "code",
      "source": "def plane_equation(normal_vector, point):\n    A, B, C = normal_vector\n    D = -np.dot(normal_vector, point)\n    return f\"{A}x + {B}y + {C}z + {D} = 0\"\n\n# Example: Plane passing through (1, 2, 3) with normal vector (4, 5, 6)\nprint(plane_equation((4, 5, 6), (1, 2, 3)))\n",
      "metadata": {
        "trusted": true
      },
      "outputs": [
        {
          "name": "stdout",
          "output_type": "stream",
          "text": "4x + 5y + 6z + -32 = 0\n"
        }
      ],
      "execution_count": 5
    },
    {
      "id": "5480c9fa-269a-420c-a96f-13343bc59464",
      "cell_type": "markdown",
      "source": "### 6. Transformations in 3D Space\n\n#### Translation:\nA point $ (x, y, z) $ moves by $ (dx, dy, dz) $, resulting in the new coordinates:\n\n$$ x' = x + dx $$\n$$ y' = y + dy $$\n$$ z' = z + dz $$\n\nWhere:\n- $ (x, y, z) $ represents the original coordinates of the point.\n- $ (dx, dy, dz) $ is the translation vector indicating movement in the respective directions.\n- $ (x', y', z') $ are the new coordinates after translation.",
      "metadata": {}
    },
    {
      "id": "3b5f5dc1-56b0-4202-81f1-fd8568398290",
      "cell_type": "code",
      "source": "def translate_3d(point, dx, dy, dz):\n    return np.array(point) + np.array([dx, dy, dz])\n\n# Example: Move (1, 2, 3) by (5, -2, 4)\nprint(translate_3d((1, 2, 3), 5, -2, 4))\n",
      "metadata": {
        "trusted": true
      },
      "outputs": [
        {
          "name": "stdout",
          "output_type": "stream",
          "text": "[6 0 7]\n"
        }
      ],
      "execution_count": 6
    },
    {
      "id": "81757a27-b69c-4729-b749-9fb5f0198c65",
      "cell_type": "markdown",
      "source": "## Scaling:\nA point $ (𝑥,𝑦,𝑧) $ scales by factor $ 𝑘 $ :",
      "metadata": {}
    },
    {
      "id": "0250ef39-4279-4802-8369-fe2e43c16290",
      "cell_type": "code",
      "source": "def scale_3d(point, k):\n    return np.array(point) * k\n\n# Example: Scale (1, 2, 3) by factor 2\nprint(scale_3d((1, 2, 3), 2))\n",
      "metadata": {
        "trusted": true
      },
      "outputs": [
        {
          "name": "stdout",
          "output_type": "stream",
          "text": "[2 4 6]\n"
        }
      ],
      "execution_count": 7
    },
    {
      "id": "4153dd81-9da4-45eb-8343-1b549e3863e7",
      "cell_type": "markdown",
      "source": "## Rotation:\nTo rotate a point around an axis, we use **rotation matrices**. For simplicity, here’s **rotation about the Z-axis**:",
      "metadata": {}
    },
    {
      "id": "97fb3e98-a400-41b3-a096-0d79e57cde45",
      "cell_type": "code",
      "source": "def rotate_3d_z(point, theta):\n    theta_rad = np.radians(theta)\n    rotation_matrix = np.array([[np.cos(theta_rad), -np.sin(theta_rad), 0],\n                                [np.sin(theta_rad), np.cos(theta_rad), 0],\n                                [0, 0, 1]])\n    return rotation_matrix @ np.array(point)\n\n# Example: Rotate (1, 2, 3) by 45 degrees around the Z-axis\nprint(rotate_3d_z((1, 2, 3), 45))\n",
      "metadata": {
        "trusted": true
      },
      "outputs": [
        {
          "name": "stdout",
          "output_type": "stream",
          "text": "[-0.70710678  2.12132034  3.        ]\n"
        }
      ],
      "execution_count": 9
    },
    {
      "id": "a371efd8-0983-4260-8ee0-61a2a00e7933",
      "cell_type": "markdown",
      "source": "## Summary\nUsing Python and NumPy, we explored:\n\n* **Distance & midpoint calculations**\n* **Dot & cross product**\n* **Equation of a plane**\n* **3D transformations (translation, scaling, rotation)**\n\nThese operations are essential for working with 3D graphics, simulations, and computational geometry.",
      "metadata": {}
    },
    {
      "id": "2e87517f-2baa-4d40-bf9c-039cab57a98e",
      "cell_type": "markdown",
      "source": "# [Geometry Context](./README.md)",
      "metadata": {}
    }
  ]
}