{
  "metadata": {
    "kernelspec": {
      "name": "python",
      "display_name": "Python (Pyodide)",
      "language": "python"
    },
    "language_info": {
      "codemirror_mode": {
        "name": "python",
        "version": 3
      },
      "file_extension": ".py",
      "mimetype": "text/x-python",
      "name": "python",
      "nbconvert_exporter": "python",
      "pygments_lexer": "ipython3",
      "version": "3.8"
    }
  },
  "nbformat_minor": 5,
  "nbformat": 4,
  "cells": [
    {
      "id": "3b3aac8e-5279-42aa-ae27-4ef11198d725",
      "cell_type": "markdown",
      "source": "# Python for Geometry: Triangles and Their Properties\n## Introduction\nTriangles are one of the most important shapes in geometry. They come in different types and have unique properties that help in solving mathematical problems. In this tutorial, we will explore congruence, similarity, and the Pythagorean theorem using Python.",
      "metadata": {}
    },
    {
      "id": "37ed95cf-c742-4f70-a46f-990fe4479ad8",
      "cell_type": "markdown",
      "source": "## Triangle Congruence\nTriangles are congruent if they have the same shape and size. Congruence can be determined by different criteria:\n\n* **1. SSS (Side-Side-Side) –** Three sides of one triangle are equal to three sides of another.\n* **2. SAS (Side-Angle-Side) –** Two sides and the included angle are equal.\n* **3. ASA (Angle-Side-Angle) –** Two angles and the included side are equal.",
      "metadata": {}
    },
    {
      "id": "72519420-7688-497d-bc57-ddb84f993123",
      "cell_type": "markdown",
      "source": "## Python Code for Checking Triangle Congruence",
      "metadata": {}
    },
    {
      "id": "5eb9798c-8109-4305-8322-39d2cf128858",
      "cell_type": "code",
      "source": "def are_congruent(triangle1, triangle2):\n    return sorted(triangle1) == sorted(triangle2)\n\ntriangle1 = [5, 6, 7]  # Sides of triangle 1\ntriangle2 = [7, 5, 6]  # Sides of triangle 2 (Rearranged)\n\nprint(f\"Are the triangles congruent? {'Yes' if are_congruent(triangle1, triangle2) else 'No'}\")\n",
      "metadata": {
        "trusted": true
      },
      "outputs": [
        {
          "name": "stdout",
          "output_type": "stream",
          "text": "Are the triangles congruent? Yes\n"
        }
      ],
      "execution_count": 1
    },
    {
      "id": "71dc1739-f32b-4ce8-89ec-20e236b5ef37",
      "cell_type": "markdown",
      "source": "## Triangle Similarity\nTriangles are similar if they have the same shape but not necessarily the same size. The similarity criteria are:\n\n* **1. AA (Angle-Angle) –** Two angles are equal.\n* **2. SSS (Side-Side-Side) –** The ratio of the corresponding sides is equal.\n* **3. SAS (Side-Angle-Side) –** The ratio of two sides and their included angle is equal.",
      "metadata": {}
    },
    {
      "id": "b3bb0d77-a452-43e0-8355-4806fe3145a8",
      "cell_type": "markdown",
      "source": "## Python Code for Checking Triangle Congruence",
      "metadata": {}
    },
    {
      "id": "4ed3eacd-2b22-4b62-9734-d6a7e49b9759",
      "cell_type": "code",
      "source": "def are_congruent(triangle1, triangle2):\n    return sorted(triangle1) == sorted(triangle2)\n\ntriangle1 = [5, 6, 7]  # Sides of triangle 1\ntriangle2 = [7, 5, 6]  # Sides of triangle 2 (Rearranged)\n\nprint(f\"Are the triangles congruent? {'Yes' if are_congruent(triangle1, triangle2) else 'No'}\")\n",
      "metadata": {
        "trusted": true
      },
      "outputs": [
        {
          "name": "stdout",
          "output_type": "stream",
          "text": "Are the triangles congruent? Yes\n"
        }
      ],
      "execution_count": 2
    },
    {
      "id": "fec8b973-f9a1-42f7-ab1a-aa63809af22f",
      "cell_type": "markdown",
      "source": "# Pythagorean Theorem\n\nThe Pythagorean theorem applies to right-angled triangles and states:\n\n$$ a^2 + b^2 = c^2 $$\n\nwhere $ a $ and $ b $ are the legs of the triangle, and $ c $ is the hypotenuse.\n",
      "metadata": {}
    },
    {
      "id": "6cf318a4-c509-4f84-815e-ed8c7abe1efb",
      "cell_type": "markdown",
      "source": "## Python Code for Verifying the Pythagorean Theorem",
      "metadata": {}
    },
    {
      "id": "22879d55-22ef-45cf-b60b-a27941c2c383",
      "cell_type": "code",
      "source": "def is_right_triangle(a, b, c):\n    return a**2 + b**2 == c**2\n\na, b, c = 3, 4, 5\n\nprint(f\"Is the triangle a right triangle? {'Yes' if is_right_triangle(a, b, c) else 'No'}\")\n",
      "metadata": {
        "trusted": true
      },
      "outputs": [
        {
          "name": "stdout",
          "output_type": "stream",
          "text": "Is the triangle a right triangle? Yes\n"
        }
      ],
      "execution_count": 3
    },
    {
      "id": "4876822f-853e-4347-939f-0f50845264f1",
      "cell_type": "markdown",
      "source": "## Visualizing Triangles\nUsing Matplotlib, we can plot triangles to visualize their properties.",
      "metadata": {}
    },
    {
      "id": "98d0dfab-e7c8-416e-96f5-5ca96858b4ce",
      "cell_type": "code",
      "source": "import matplotlib.pyplot as plt\n\n# Triangle vertices\nx = [0, 3, 0, 0]\ny = [0, 0, 4, 0]\n\nplt.plot(x, y, marker=\"o\", linestyle=\"-\")\nplt.fill(x[:3], y[:3], color='lightblue', alpha=0.5)\n\nplt.xlim(-1, 5)\nplt.ylim(-1, 5)\nplt.xlabel(\"X-axis\")\nplt.ylabel(\"Y-axis\")\nplt.title(\"Right Triangle\")\nplt.grid(True)\nplt.show()\n",
      "metadata": {
        "trusted": true
      },
      "outputs": [
        {
          "name": "stderr",
          "output_type": "stream",
          "text": "Matplotlib is building the font cache; this may take a moment.\n"
        },
        {
          "output_type": "display_data",
          "data": {
            "text/plain": "<Figure size 640x480 with 1 Axes>",
            "image/png": "[encoded data removed]"
          },
          "metadata": {}
        }
      ],
      "execution_count": 4
    },
    {
      "id": "b2bee944-b86b-4b3e-aa4f-289a57bde1e8",
      "cell_type": "markdown",
      "source": "## Conclusion\nTriangles are essential in geometry, and Python makes it easy to explore their properties computationally and visually. Whether checking for congruence, similarity, or applying the Pythagorean theorem, Python helps streamline problem-solving in geometry.",
      "metadata": {}
    },
    {
      "id": "b52ed989-cb58-444c-a019-5601f3438606",
      "cell_type": "markdown",
      "source": "# [Geometry Context](./README.md)",
      "metadata": {}
    }
  ]
}